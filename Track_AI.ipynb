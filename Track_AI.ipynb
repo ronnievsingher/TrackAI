{
  "nbformat": 4,
  "nbformat_minor": 0,
  "metadata": {
    "colab": {
      "provenance": []
    },
    "kernelspec": {
      "name": "python3",
      "display_name": "Python 3"
    },
    "language_info": {
      "name": "python"
    }
  },
  "cells": [
    {
      "cell_type": "code",
      "source": [
        "!pip install gradio --quiet\n",
        "\n",
        "import numpy as np\n",
        "import pandas as pd\n",
        "import gradio as gr\n",
        "from sklearn.linear_model import LinearRegression\n",
        "\n",
        "# --- Athlete Dataset ---\n",
        "data = [\n",
        "    ['M', 17, 75, 170, 185, 200, 28, 13, 2, 6, 4.5, 11.9, 24.0, 52.4],\n",
        "    ['M', 17, 75, 170, 155, 275, 27, 12, 1, 6, 4.3, 12.3, 24.5, 54.0],\n",
        "    ['M', 27, 71, 154, 225, 315, 36, 8, 5, 9, 3.8, 9.79, 19.31, 45.87],\n",
        "    ['M', 18, 71, 145, 185, 315, 30, 5, 5, 7, 4.4, 11.4, 23.3, 52.4],\n",
        "    ['M', 19, 65, 120, 115, 185, 22, 16, 0, 4, 5.5, 13.5, 27.5, 61.0],\n",
        "    ['M', 18, 79, 215, 275, 405, 34, 10, 5, 9, 3.5, 10.5, 21.5, 48.0],\n",
        "    ['M', 17, 72, 160, 135, 225, 26, 14, 1, 3, 5.2, 12.9, 26.1, 58.0],\n",
        "    ['M', 16, 68, 140, 95, 185, 24, 18, 0, 2, 5.8, 14.0, 28.0, 62.0],\n",
        "    ['M', 18, 74, 180, 205, 315, 32, 9, 6, 9, 3.6, 10.9, 21.2, 47.9],\n",
        "    ['M', 18, 69, 150, 185, 265, 29, 12, 3, 6, 4.6, 12.0, 25.1, 55.0]\n",
        "]\n",
        "\n",
        "df = pd.DataFrame(data, columns=[\n",
        "    'Gender','Age','Height_in','Weight_lbs','Bench_lbs','Squat_lbs','Vertical_in',\n",
        "    'BodyFat','SprintDays','Stamina','TopSpeedTime','100m','200m','400m'\n",
        "])\n",
        "\n",
        "# Feature engineering\n",
        "df['Gender'] = 1\n",
        "df['Squat_to_weight'] = df['Squat_lbs'] / df['Weight_lbs']\n",
        "df['Explosive_index'] = df['Vertical_in'] + df['Bench_lbs'] / df['Weight_lbs']\n",
        "df['ShortPenalty'] = df['Height_in'].apply(lambda x: max(0, 70 - x) * 0.1)\n",
        "df['SprintDeficit'] = df['SprintDays'].apply(lambda x: max(0, 3 - x) * 0.5)\n",
        "\n",
        "X = df[['Gender','Age','Height_in','Weight_lbs','Squat_lbs','Bench_lbs',\n",
        "        'Vertical_in','BodyFat','SprintDays','Stamina','TopSpeedTime',\n",
        "        'Squat_to_weight','Explosive_index','ShortPenalty','SprintDeficit']]\n",
        "\n",
        "y_100 = df['100m']\n",
        "y_200 = df['200m']\n",
        "y_400 = df['400m']\n",
        "\n",
        "model_100 = LinearRegression().fit(X, y_100)\n",
        "model_200 = LinearRegression().fit(X, y_200)\n",
        "model_400 = LinearRegression().fit(X, y_400)\n",
        "\n",
        "# --- Prediction function ---\n",
        "def predict(age, feet, inches, weight, bench, squat, vertical, bodyfat, sprint_days, stamina, topspeed_time):\n",
        "    g = 1\n",
        "    height_in = feet * 12 + inches\n",
        "    squat_to_weight = squat / weight\n",
        "    explosive_index = vertical + bench / weight\n",
        "    short_penalty = max(0, 70 - height_in) * 0.1\n",
        "    sprint_deficit = max(0, 3 - sprint_days) * 0.5\n",
        "\n",
        "    features = np.array([[g, age, height_in, weight, squat, bench, vertical,\n",
        "                          bodyfat, sprint_days, stamina, topspeed_time,\n",
        "                          squat_to_weight, explosive_index, short_penalty, sprint_deficit]])\n",
        "\n",
        "    pred_100 = model_100.predict(features)[0] + 0.4      # tuned\n",
        "    pred_200 = model_200.predict(features)[0] - 0.4      # fixed to be faster\n",
        "    pred_400 = model_400.predict(features)[0]            # left as is\n",
        "\n",
        "    return (\n",
        "        f\"{pred_100:.2f} sec\",\n",
        "        f\"{pred_200:.2f} sec\",\n",
        "        f\"{pred_400:.2f} sec\"\n",
        "    )\n",
        "\n",
        "# --- Gradio Interface ---\n",
        "with gr.Blocks(css=\"body { font-family: 'Segoe UI', sans-serif; background-color: #f9fbfd; }\") as demo:\n",
        "    gr.Markdown(\n",
        "        \"\"\"\n",
        "        # 🏃‍♂️ **TrackAI: Sprint Time Predictor for Male Athletes**\n",
        "        _Made by Ranvir Singh_\n",
        "\n",
        "        Predict your 100m, 200m, and 400m times based on body stats, strength, and training.\n",
        "        \"\"\"\n",
        "    )\n",
        "\n",
        "    with gr.Row():\n",
        "        with gr.Column():\n",
        "            gr.Markdown(\"### 🧍 Body & Strength\")\n",
        "            age = gr.Slider(14, 30, step=1, label=\"Age\")\n",
        "            feet = gr.Slider(4, 7, step=1, label=\"Height (feet)\")\n",
        "            inches = gr.Slider(0, 11, step=1, label=\"Height (inches)\")\n",
        "            weight = gr.Slider(100, 250, step=1, label=\"Weight (lbs)\")\n",
        "            bodyfat = gr.Slider(3, 30, step=1, label=\"Body Fat (%)\")\n",
        "            bench = gr.Slider(50, 350, step=5, label=\"Bench Max (lbs)\")\n",
        "            squat = gr.Slider(80, 500, step=5, label=\"Squat Max (lbs)\")\n",
        "\n",
        "        with gr.Column():\n",
        "            gr.Markdown(\"### 🏃 Speed & Conditioning\")\n",
        "            vertical = gr.Slider(15, 40, step=1, label=\"Vertical Jump (inches)\")\n",
        "            sprint_days = gr.Slider(0, 7, step=1, label=\"Sprint Days per Week\")\n",
        "            stamina = gr.Slider(1, 10, step=1, label=\"Stamina (1–10)\")\n",
        "            topspeed_time = gr.Slider(2.5, 6.0, step=0.1, label=\"Time to Reach Top Speed (sec)\")\n",
        "\n",
        "    predict_btn = gr.Button(\"🚀 Predict Times\")\n",
        "    out_100 = gr.Text(label=\"Predicted 100m Time\")\n",
        "    out_200 = gr.Text(label=\"Predicted 200m Time\")\n",
        "    out_400 = gr.Text(label=\"Predicted 400m Time\")\n",
        "\n",
        "    predict_btn.click(fn=predict, inputs=[\n",
        "        age, feet, inches, weight, bench, squat, vertical, bodyfat,\n",
        "        sprint_days, stamina, topspeed_time\n",
        "    ], outputs=[out_100, out_200, out_400])\n",
        "\n",
        "demo.launch()\n",
        "\n",
        "\n",
        "\n",
        "\n",
        "\n",
        "\n",
        "\n"
      ],
      "metadata": {
        "colab": {
          "base_uri": "https://localhost:8080/",
          "height": 628
        },
        "id": "NNO231L4cLKj",
        "outputId": "a2fa9fc8-b6db-4b34-8f29-7d194ba92466"
      },
      "execution_count": 3,
      "outputs": [
        {
          "output_type": "stream",
          "name": "stdout",
          "text": [
            "It looks like you are running Gradio on a hosted a Jupyter notebook. For the Gradio app to work, sharing must be enabled. Automatically setting `share=True` (you can turn this off by setting `share=False` in `launch()` explicitly).\n",
            "\n",
            "Colab notebook detected. To show errors in colab notebook, set debug=True in launch()\n",
            "* Running on public URL: https://ca2650748473237763.gradio.live\n",
            "\n",
            "This share link expires in 1 week. For free permanent hosting and GPU upgrades, run `gradio deploy` from the terminal in the working directory to deploy to Hugging Face Spaces (https://huggingface.co/spaces)\n"
          ]
        },
        {
          "output_type": "display_data",
          "data": {
            "text/plain": [
              "<IPython.core.display.HTML object>"
            ],
            "text/html": [
              "<div><iframe src=\"https://ca2650748473237763.gradio.live\" width=\"100%\" height=\"500\" allow=\"autoplay; camera; microphone; clipboard-read; clipboard-write;\" frameborder=\"0\" allowfullscreen></iframe></div>"
            ]
          },
          "metadata": {}
        },
        {
          "output_type": "execute_result",
          "data": {
            "text/plain": []
          },
          "metadata": {},
          "execution_count": 3
        }
      ]
    }
  ]
}